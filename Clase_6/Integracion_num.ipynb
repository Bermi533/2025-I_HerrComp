{
 "cells": [
  {
   "cell_type": "code",
   "execution_count": 20,
   "id": "93bd4620-1148-4740-943d-c1bb259605f3",
   "metadata": {},
   "outputs": [
    {
     "data": {
      "text/plain": [
       "np.float64(0.34134472590431586)"
      ]
     },
     "execution_count": 20,
     "metadata": {},
     "output_type": "execute_result"
    }
   ],
   "source": [
    "#Integración numérica\n",
    "\"\"\"\n",
    "Densidad de probabilidad, método de los trapecios\n",
    "\"\"\"\n",
    "\n",
    "import numpy as np\n",
    "import matplotlib.pyplot as plt\n",
    "\n",
    "def f(x):\n",
    "    return (1.0/np.sqrt(2*np.pi)) * np.exp(-x**2/2)\n",
    "\n",
    "def I(a, b, n):\n",
    "    h = (b-a)/n\n",
    "    sum = (f(a)+f(b)) #Aquí está haciendo la suma de f(x0) y f(xn)\n",
    "    x = a\n",
    "    for i in range(1, n):\n",
    "        x += h\n",
    "        sum += 2*f(x)\n",
    "    return h*sum/2\n",
    "    \n",
    "I(0,1, 1000)"
   ]
  },
  {
   "cell_type": "code",
   "execution_count": null,
   "id": "6efe3517-c7e2-4fbc-8483-2808aabdf35f",
   "metadata": {},
   "outputs": [],
   "source": []
  }
 ],
 "metadata": {
  "kernelspec": {
   "display_name": "Python 3 (ipykernel)",
   "language": "python",
   "name": "python3"
  },
  "language_info": {
   "codemirror_mode": {
    "name": "ipython",
    "version": 3
   },
   "file_extension": ".py",
   "mimetype": "text/x-python",
   "name": "python",
   "nbconvert_exporter": "python",
   "pygments_lexer": "ipython3",
   "version": "3.11.10"
  }
 },
 "nbformat": 4,
 "nbformat_minor": 5
}
