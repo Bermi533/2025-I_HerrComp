import numpy as np
import matplotlib.pyplot as plt


vec1 = [1,-2,4]
vec2 = [1,-1]


matA = [[1,0],[0,-1]] #\sigma_z Matrices de Pauli


np.matmul(matA,vec2)


np.matmul(matA,matA)


np.dot(vec2,vec2)


np.cross(vec1,vec1)


#Hacer una función que me bote la potencia de una matriz (cuadrada) i =1,2,3...
def PowMat(B, n):
    Power = B
    for i in range(n-1):
        Power = np.matmul(Power,B)
    return Power


matB = np.diag([1,2,3]) #Por qué sale un array al sacarlo con np? Es por el entorno de Python
PowMat(matB,3)


#Por ejemplo: es multiplicar por el tamaño de la matriz (me saldría error si pongo 2.5*matA)
#Luego, tengo que hacer lo siguiente para que lo interprete como multiplicación por un escalar:
2.5*np.array(matA)


matA = np.array(matA)


np.cos(matA)


N = 10
B = np.zeros([N,N]) #Para definir tensores np.zeros([N,N,N])


plt.imshow(B)
plt.show()


#Llenar aleatoriamente los elementos de la matriz con números entre cero y uno -> B_0,1 -> B[0][1]
N = 1000
B = np.zeros([N,N]) 
for i in range(N):
    for j in range(N):
        B[i][j]=np.random.rand()  #Reescribo sobre la matriz de ceros
plt.imshow(B) #Se utiliza para graficar matrices
plt.colorbar()
plt.show()


#Sacarle los eigenvalores, determiantes, etc., a la matriz:
np.linalg.det(B)


np.linalg.det([[1,0],[0,-1]])


np.linalg.inv(B)


np.linalg.eigvals(B) #solo saca los valores propios, en este caso son números complejos


#Graficar Im(B) vs. Re(B)
Lambda_vec = np.linalg.eigvals(B)
x = np.real(Lambda_vec)
y = np.imag(Lambda_vec)

plt.plot(x,y,"r.")
plt.show()





plt.plot(x,y,"m.")
plt.xlim(-10,10)
plt.xlabel(r"$Re[\lambda_l]$", size=18)
plt.ylabel(r"$Im[\lambda_l]$", size=18)
plt.show()


#h para matrices hermíticas -> usar np.linalg.eigvalsh
np.linalg.eigvalsh([[1,0],[0,-1]])


np.linalg.eig([[1,0],[0,-1]]) #Saca los eigenvalores y los eigenvectores derechos


np.linalg.eigh([[1,0],[0,-1]]) #Saca los eigenvalores y los eigenvectores derechos (caso matriz hermítica o real simétrica)


eigvals, Q = np.linalg.eig([[1,0], [0,-1]])
matLambda = np.diag(eigvals)
Qinv = np.linalg.inv(Q)


matD = [[1,2,4],[6,7,8],[23,1,3]]
eigvalsD, QD = np.linalg.eig(matD)
QDinv = np.linalg.inv(QD)
matLambdaD = np.diag(eigvalsD)


np.real(np.matmul(np.matmul(QD,matLambdaD),QDinv)) #ESto debería ser igual a matD


#Calculando e^[matD]
eigvalsD1, QD1 = np.linalg.eig(matD)
QDinv1 = np.linalg.inv(QD1)
matLambdaD1= np.diag(np.exp(eigvalsD1))
np.real(np.matmul(np.matmul(QD1,matLambdaD1),QDinv1))


np.identity(10) #Recordar verificar numéricamente el ejercicio del parcial de mec. estadística



