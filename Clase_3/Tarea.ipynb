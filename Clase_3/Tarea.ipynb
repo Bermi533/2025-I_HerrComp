{
 "cells": [
  {
   "cell_type": "markdown",
   "metadata": {},
   "source": [
    "Matriz(W) = $[[\\alpha/(\\alpha+1), 1/(\\alpha+1)],[\\alpha/(\\alpha+1), 1/(\\alpha+1)]]$ $\\hspace{0.5cm}$ con $\\alpha < 0 \\\\ $ \n",
    "Verificar que -> Ln(Matriz(I)+Matriz(W)) = Ln(2)Matriz(W)\n"
   ]
  },
  {
   "cell_type": "code",
   "execution_count": 9,
   "metadata": {},
   "outputs": [],
   "source": [
    "import numpy as np"
   ]
  },
  {
   "cell_type": "code",
   "execution_count": 10,
   "metadata": {},
   "outputs": [
    {
     "name": "stdout",
     "output_type": "stream",
     "text": [
      "[[0.5, 0.5], [0.5, 0.5]]\n",
      "[[1. 0.]\n",
      " [0. 1.]]\n"
     ]
    }
   ],
   "source": [
    "a = 1\n",
    "matW = [[(a/(a+1.0)), (1.0/(a+1.0))], [(a/(a+1.0)), (1.0/(a+1.0))]]\n",
    "matI2 = np.identity(2)\n",
    "print(matW)\n",
    "print(matI2)"
   ]
  },
  {
   "cell_type": "code",
   "execution_count": 11,
   "metadata": {},
   "outputs": [
    {
     "name": "stdout",
     "output_type": "stream",
     "text": [
      "[[1.5 0.5]\n",
      " [0.5 1.5]]\n"
     ]
    }
   ],
   "source": [
    "mat_IpW = matW + matI2 \n",
    "print(mat_IpW)"
   ]
  },
  {
   "cell_type": "code",
   "execution_count": 12,
   "metadata": {},
   "outputs": [
    {
     "name": "stdout",
     "output_type": "stream",
     "text": [
      "[[0.34657359 0.34657359]\n",
      " [0.34657359 0.34657359]]\n"
     ]
    }
   ],
   "source": [
    "#Calculando ln(I+W) = lnIW\n",
    "eigvals, Q = np.linalg.eig(mat_IpW)\n",
    "Qinv = np.linalg.inv(Q)\n",
    "matLambda= np.diag(np.log(eigvals))\n",
    "lnIW = np.real(np.matmul(np.matmul(Q,matLambda),Qinv))\n",
    "print(lnIW)"
   ]
  },
  {
   "cell_type": "code",
   "execution_count": null,
   "metadata": {},
   "outputs": [
    {
     "name": "stdout",
     "output_type": "stream",
     "text": [
      "[[0.34657359 0.34657359]\n",
      " [0.34657359 0.34657359]]\n"
     ]
    }
   ],
   "source": [
    "#Calculando ln(2)W\n",
    "ln2_W = np.log(2)*np.array(matW)\n",
    "print(ln2_W)"
   ]
  }
 ],
 "metadata": {
  "kernelspec": {
   "display_name": "Python 3 (ipykernel)",
   "language": "python",
   "name": "python3"
  },
  "language_info": {
   "codemirror_mode": {
    "name": "ipython",
    "version": 3
   },
   "file_extension": ".py",
   "mimetype": "text/x-python",
   "name": "python",
   "nbconvert_exporter": "python",
   "pygments_lexer": "ipython3",
   "version": "3.11.10"
  }
 },
 "nbformat": 4,
 "nbformat_minor": 2
}
