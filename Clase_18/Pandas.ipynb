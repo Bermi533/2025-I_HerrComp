{
 "cells": [
  {
   "cell_type": "code",
   "execution_count": 10,
   "id": "42fd4834",
   "metadata": {},
   "outputs": [],
   "source": [
    "import numpy as np\n",
    "import matplotlib.pyplot as plt\n",
    "import pandas as pd"
   ]
  },
  {
   "cell_type": "code",
   "execution_count": 11,
   "id": "f06a2bf7",
   "metadata": {},
   "outputs": [
    {
     "data": {
      "text/html": [
       "<div>\n",
       "<style scoped>\n",
       "    .dataframe tbody tr th:only-of-type {\n",
       "        vertical-align: middle;\n",
       "    }\n",
       "\n",
       "    .dataframe tbody tr th {\n",
       "        vertical-align: top;\n",
       "    }\n",
       "\n",
       "    .dataframe thead th {\n",
       "        text-align: right;\n",
       "    }\n",
       "</style>\n",
       "<table border=\"1\" class=\"dataframe\">\n",
       "  <thead>\n",
       "    <tr style=\"text-align: right;\">\n",
       "      <th></th>\n",
       "      <th>Date</th>\n",
       "      <th>Close/Last</th>\n",
       "      <th>Volume</th>\n",
       "      <th>Open</th>\n",
       "      <th>High</th>\n",
       "      <th>Low</th>\n",
       "    </tr>\n",
       "  </thead>\n",
       "  <tbody>\n",
       "    <tr>\n",
       "      <th>0</th>\n",
       "      <td>06/16/2025</td>\n",
       "      <td>$329.13</td>\n",
       "      <td>83925860</td>\n",
       "      <td>$331.29</td>\n",
       "      <td>$332.05</td>\n",
       "      <td>$326.41</td>\n",
       "    </tr>\n",
       "    <tr>\n",
       "      <th>1</th>\n",
       "      <td>06/13/2025</td>\n",
       "      <td>$325.31</td>\n",
       "      <td>128964300</td>\n",
       "      <td>$313.97</td>\n",
       "      <td>$332.99</td>\n",
       "      <td>$313.30</td>\n",
       "    </tr>\n",
       "    <tr>\n",
       "      <th>2</th>\n",
       "      <td>06/12/2025</td>\n",
       "      <td>$319.11</td>\n",
       "      <td>105127500</td>\n",
       "      <td>$323.075</td>\n",
       "      <td>$332.56</td>\n",
       "      <td>$316.86</td>\n",
       "    </tr>\n",
       "    <tr>\n",
       "      <th>3</th>\n",
       "      <td>06/11/2025</td>\n",
       "      <td>$326.43</td>\n",
       "      <td>122611400</td>\n",
       "      <td>$334.395</td>\n",
       "      <td>$335.50</td>\n",
       "      <td>$322.50</td>\n",
       "    </tr>\n",
       "    <tr>\n",
       "      <th>4</th>\n",
       "      <td>06/10/2025</td>\n",
       "      <td>$326.09</td>\n",
       "      <td>151256500</td>\n",
       "      <td>$314.94</td>\n",
       "      <td>$327.83</td>\n",
       "      <td>$310.667</td>\n",
       "    </tr>\n",
       "    <tr>\n",
       "      <th>...</th>\n",
       "      <td>...</td>\n",
       "      <td>...</td>\n",
       "      <td>...</td>\n",
       "      <td>...</td>\n",
       "      <td>...</td>\n",
       "      <td>...</td>\n",
       "    </tr>\n",
       "    <tr>\n",
       "      <th>2510</th>\n",
       "      <td>06/23/2015</td>\n",
       "      <td>$17.8447</td>\n",
       "      <td>57969001</td>\n",
       "      <td>$17.3547</td>\n",
       "      <td>$17.8667</td>\n",
       "      <td>$17.238</td>\n",
       "    </tr>\n",
       "    <tr>\n",
       "      <th>2511</th>\n",
       "      <td>06/22/2015</td>\n",
       "      <td>$17.3193</td>\n",
       "      <td>68386046</td>\n",
       "      <td>$17.4767</td>\n",
       "      <td>$17.6267</td>\n",
       "      <td>$17.046</td>\n",
       "    </tr>\n",
       "    <tr>\n",
       "      <th>2512</th>\n",
       "      <td>06/19/2015</td>\n",
       "      <td>$17.5007</td>\n",
       "      <td>36883482</td>\n",
       "      <td>$17.4933</td>\n",
       "      <td>$17.5867</td>\n",
       "      <td>$17.34</td>\n",
       "    </tr>\n",
       "    <tr>\n",
       "      <th>2513</th>\n",
       "      <td>06/18/2015</td>\n",
       "      <td>$17.4593</td>\n",
       "      <td>41721594</td>\n",
       "      <td>$17.4667</td>\n",
       "      <td>$17.564</td>\n",
       "      <td>$17.3347</td>\n",
       "    </tr>\n",
       "    <tr>\n",
       "      <th>2514</th>\n",
       "      <td>06/17/2015</td>\n",
       "      <td>$17.3607</td>\n",
       "      <td>82508359</td>\n",
       "      <td>$16.8113</td>\n",
       "      <td>$17.624</td>\n",
       "      <td>$16.8013</td>\n",
       "    </tr>\n",
       "  </tbody>\n",
       "</table>\n",
       "<p>2515 rows × 6 columns</p>\n",
       "</div>"
      ],
      "text/plain": [
       "            Date Close/Last     Volume      Open      High       Low\n",
       "0     06/16/2025    $329.13   83925860   $331.29   $332.05   $326.41\n",
       "1     06/13/2025    $325.31  128964300   $313.97   $332.99   $313.30\n",
       "2     06/12/2025    $319.11  105127500  $323.075   $332.56   $316.86\n",
       "3     06/11/2025    $326.43  122611400  $334.395   $335.50   $322.50\n",
       "4     06/10/2025    $326.09  151256500   $314.94   $327.83  $310.667\n",
       "...          ...        ...        ...       ...       ...       ...\n",
       "2510  06/23/2015   $17.8447   57969001  $17.3547  $17.8667   $17.238\n",
       "2511  06/22/2015   $17.3193   68386046  $17.4767  $17.6267   $17.046\n",
       "2512  06/19/2015   $17.5007   36883482  $17.4933  $17.5867    $17.34\n",
       "2513  06/18/2015   $17.4593   41721594  $17.4667   $17.564  $17.3347\n",
       "2514  06/17/2015   $17.3607   82508359  $16.8113   $17.624  $16.8013\n",
       "\n",
       "[2515 rows x 6 columns]"
      ]
     },
     "execution_count": 11,
     "metadata": {},
     "output_type": "execute_result"
    }
   ],
   "source": [
    "pd.read_csv(\"TSLA.csv\")"
   ]
  },
  {
   "cell_type": "code",
   "execution_count": 12,
   "id": "642236a0",
   "metadata": {},
   "outputs": [],
   "source": [
    "Data=pd.read_csv(\"TSLA.csv\")"
   ]
  },
  {
   "cell_type": "code",
   "execution_count": 13,
   "id": "ae1d52b7",
   "metadata": {},
   "outputs": [],
   "source": [
    "Delta=[]\n",
    "for i in range(len(Data)):\n",
    "  val_close= float((Data[\"Close/Last\"][i]).replace('$', ''))\n",
    "  val_open=float(Data['Open'][i].replace('$', ''))\n",
    "  Delta.append(100*(val_close-val_open)/val_open)"
   ]
  },
  {
   "cell_type": "code",
   "execution_count": 14,
   "id": "d63ef25e",
   "metadata": {},
   "outputs": [
    {
     "data": {
      "image/png": "[encoded data removed]",
      "text/plain": [
       "<Figure size 640x480 with 1 Axes>"
      ]
     },
     "metadata": {},
     "output_type": "display_data"
    }
   ],
   "source": [
    "val_mean=np.mean(Delta)\n",
    "var=np.var(Delta)\n",
    "val_std=np.std(Delta)\n",
    "plt.plot(np.random.normal(val_mean, val_std, len(Delta)))\n",
    "plt.show()"
   ]
  },
  {
   "cell_type": "code",
   "execution_count": 15,
   "id": "4eb1242e",
   "metadata": {},
   "outputs": [
    {
     "data": {
      "image/png": "[encoded data removed]",
      "text/plain": [
       "<Figure size 640x480 with 1 Axes>"
      ]
     },
     "metadata": {},
     "output_type": "display_data"
    }
   ],
   "source": [
    "val, base = np.histogram(Delta, bins=np.arange(-15, 15+0.25, 0.25), density=True)\n",
    "plt.plot(base[1:], val, '.')\n",
    "\n",
    "X = np.arange(-15, 15+0.25, 0.25)\n",
    "A = (1/np.sqrt(2*np.pi*val_std**2)) * np.exp(-((X - val_mean)**2)/(2*val_std**2))\n",
    "\n",
    "plt.plot(X, A)\n",
    "plt.show()\n"
   ]
  },
  {
   "cell_type": "code",
   "execution_count": 16,
   "id": "f231a058",
   "metadata": {},
   "outputs": [],
   "source": [
    "X= np.arange(-15, 15+0.25, 0.25)\n",
    "A= 1/np.sqrt(2*np.pi*val_std**2)*np.exp(-(X-val_mean)/2*val_std**2)"
   ]
  },
  {
   "cell_type": "code",
   "execution_count": 17,
   "id": "19e3e2cc",
   "metadata": {},
   "outputs": [
    {
     "data": {
      "text/plain": [
       "np.int64(830)"
      ]
     },
     "execution_count": 17,
     "metadata": {},
     "output_type": "execute_result"
    }
   ],
   "source": [
    "Delta=np.array(Delta)\n",
    "np.sum(Delta>=1)"
   ]
  },
  {
   "cell_type": "code",
   "execution_count": 18,
   "id": "f8532eaf",
   "metadata": {},
   "outputs": [
    {
     "data": {
      "text/plain": [
       "np.int64(830)"
      ]
     },
     "execution_count": 18,
     "metadata": {},
     "output_type": "execute_result"
    }
   ],
   "source": [
    "np.sum(Delta>=1)"
   ]
  },
  {
   "cell_type": "code",
   "execution_count": 19,
   "id": "51aba463",
   "metadata": {},
   "outputs": [
    {
     "data": {
      "text/plain": [
       "np.int64(834)"
      ]
     },
     "execution_count": 19,
     "metadata": {},
     "output_type": "execute_result"
    }
   ],
   "source": [
    "np.sum(Delta<=-1)"
   ]
  },
  {
   "cell_type": "code",
   "execution_count": 20,
   "id": "9e635cf3",
   "metadata": {},
   "outputs": [
    {
     "data": {
      "text/html": [
       "<div>\n",
       "<style scoped>\n",
       "    .dataframe tbody tr th:only-of-type {\n",
       "        vertical-align: middle;\n",
       "    }\n",
       "\n",
       "    .dataframe tbody tr th {\n",
       "        vertical-align: top;\n",
       "    }\n",
       "\n",
       "    .dataframe thead th {\n",
       "        text-align: right;\n",
       "    }\n",
       "</style>\n",
       "<table border=\"1\" class=\"dataframe\">\n",
       "  <thead>\n",
       "    <tr style=\"text-align: right;\">\n",
       "      <th></th>\n",
       "      <th>Date</th>\n",
       "      <th>Close/Last</th>\n",
       "      <th>Volume</th>\n",
       "      <th>Open</th>\n",
       "      <th>High</th>\n",
       "      <th>Low</th>\n",
       "    </tr>\n",
       "  </thead>\n",
       "  <tbody>\n",
       "    <tr>\n",
       "      <th>0</th>\n",
       "      <td>06/16/2025</td>\n",
       "      <td>$329.13</td>\n",
       "      <td>83925860</td>\n",
       "      <td>$331.29</td>\n",
       "      <td>$332.05</td>\n",
       "      <td>$326.41</td>\n",
       "    </tr>\n",
       "    <tr>\n",
       "      <th>1</th>\n",
       "      <td>06/13/2025</td>\n",
       "      <td>$325.31</td>\n",
       "      <td>128964300</td>\n",
       "      <td>$313.97</td>\n",
       "      <td>$332.99</td>\n",
       "      <td>$313.30</td>\n",
       "    </tr>\n",
       "    <tr>\n",
       "      <th>2</th>\n",
       "      <td>06/12/2025</td>\n",
       "      <td>$319.11</td>\n",
       "      <td>105127500</td>\n",
       "      <td>$323.075</td>\n",
       "      <td>$332.56</td>\n",
       "      <td>$316.86</td>\n",
       "    </tr>\n",
       "    <tr>\n",
       "      <th>3</th>\n",
       "      <td>06/11/2025</td>\n",
       "      <td>$326.43</td>\n",
       "      <td>122611400</td>\n",
       "      <td>$334.395</td>\n",
       "      <td>$335.50</td>\n",
       "      <td>$322.50</td>\n",
       "    </tr>\n",
       "    <tr>\n",
       "      <th>4</th>\n",
       "      <td>06/10/2025</td>\n",
       "      <td>$326.09</td>\n",
       "      <td>151256500</td>\n",
       "      <td>$314.94</td>\n",
       "      <td>$327.83</td>\n",
       "      <td>$310.667</td>\n",
       "    </tr>\n",
       "    <tr>\n",
       "      <th>5</th>\n",
       "      <td>06/09/2025</td>\n",
       "      <td>$308.58</td>\n",
       "      <td>140908900</td>\n",
       "      <td>$285.955</td>\n",
       "      <td>$309.83</td>\n",
       "      <td>$281.85</td>\n",
       "    </tr>\n",
       "    <tr>\n",
       "      <th>6</th>\n",
       "      <td>06/06/2025</td>\n",
       "      <td>$295.14</td>\n",
       "      <td>164747700</td>\n",
       "      <td>$298.83</td>\n",
       "      <td>$305.50</td>\n",
       "      <td>$291.14</td>\n",
       "    </tr>\n",
       "    <tr>\n",
       "      <th>7</th>\n",
       "      <td>06/05/2025</td>\n",
       "      <td>$284.70</td>\n",
       "      <td>292818700</td>\n",
       "      <td>$322.49</td>\n",
       "      <td>$324.5499</td>\n",
       "      <td>$273.21</td>\n",
       "    </tr>\n",
       "    <tr>\n",
       "      <th>8</th>\n",
       "      <td>06/04/2025</td>\n",
       "      <td>$332.05</td>\n",
       "      <td>98912080</td>\n",
       "      <td>$345.095</td>\n",
       "      <td>$345.60</td>\n",
       "      <td>$327.3308</td>\n",
       "    </tr>\n",
       "    <tr>\n",
       "      <th>9</th>\n",
       "      <td>06/03/2025</td>\n",
       "      <td>$344.27</td>\n",
       "      <td>99324540</td>\n",
       "      <td>$346.595</td>\n",
       "      <td>$355.40</td>\n",
       "      <td>$343.04</td>\n",
       "    </tr>\n",
       "  </tbody>\n",
       "</table>\n",
       "</div>"
      ],
      "text/plain": [
       "         Date Close/Last     Volume      Open       High        Low\n",
       "0  06/16/2025    $329.13   83925860   $331.29    $332.05    $326.41\n",
       "1  06/13/2025    $325.31  128964300   $313.97    $332.99    $313.30\n",
       "2  06/12/2025    $319.11  105127500  $323.075    $332.56    $316.86\n",
       "3  06/11/2025    $326.43  122611400  $334.395    $335.50    $322.50\n",
       "4  06/10/2025    $326.09  151256500   $314.94    $327.83   $310.667\n",
       "5  06/09/2025    $308.58  140908900  $285.955    $309.83    $281.85\n",
       "6  06/06/2025    $295.14  164747700   $298.83    $305.50    $291.14\n",
       "7  06/05/2025    $284.70  292818700   $322.49  $324.5499    $273.21\n",
       "8  06/04/2025    $332.05   98912080  $345.095    $345.60  $327.3308\n",
       "9  06/03/2025    $344.27   99324540  $346.595    $355.40    $343.04"
      ]
     },
     "execution_count": 20,
     "metadata": {},
     "output_type": "execute_result"
    }
   ],
   "source": [
    "Data.head(10)"
   ]
  },
  {
   "cell_type": "code",
   "execution_count": 21,
   "id": "c52089b4",
   "metadata": {},
   "outputs": [
    {
     "data": {
      "text/html": [
       "<div>\n",
       "<style scoped>\n",
       "    .dataframe tbody tr th:only-of-type {\n",
       "        vertical-align: middle;\n",
       "    }\n",
       "\n",
       "    .dataframe tbody tr th {\n",
       "        vertical-align: top;\n",
       "    }\n",
       "\n",
       "    .dataframe thead th {\n",
       "        text-align: right;\n",
       "    }\n",
       "</style>\n",
       "<table border=\"1\" class=\"dataframe\">\n",
       "  <thead>\n",
       "    <tr style=\"text-align: right;\">\n",
       "      <th></th>\n",
       "      <th>Date</th>\n",
       "      <th>Close/Last</th>\n",
       "      <th>Volume</th>\n",
       "      <th>Open</th>\n",
       "      <th>High</th>\n",
       "      <th>Low</th>\n",
       "    </tr>\n",
       "  </thead>\n",
       "  <tbody>\n",
       "    <tr>\n",
       "      <th>2505</th>\n",
       "      <td>06/30/2015</td>\n",
       "      <td>$17.884</td>\n",
       "      <td>46266502</td>\n",
       "      <td>$17.6533</td>\n",
       "      <td>$18.0613</td>\n",
       "      <td>$17.60</td>\n",
       "    </tr>\n",
       "    <tr>\n",
       "      <th>2506</th>\n",
       "      <td>06/29/2015</td>\n",
       "      <td>$17.468</td>\n",
       "      <td>52071754</td>\n",
       "      <td>$17.4633</td>\n",
       "      <td>$17.73</td>\n",
       "      <td>$17.38</td>\n",
       "    </tr>\n",
       "    <tr>\n",
       "      <th>2507</th>\n",
       "      <td>06/26/2015</td>\n",
       "      <td>$17.806</td>\n",
       "      <td>57444871</td>\n",
       "      <td>$17.926</td>\n",
       "      <td>$17.9407</td>\n",
       "      <td>$17.7333</td>\n",
       "    </tr>\n",
       "    <tr>\n",
       "      <th>2508</th>\n",
       "      <td>06/25/2015</td>\n",
       "      <td>$17.9193</td>\n",
       "      <td>42674874</td>\n",
       "      <td>$17.7633</td>\n",
       "      <td>$18.094</td>\n",
       "      <td>$17.6833</td>\n",
       "    </tr>\n",
       "    <tr>\n",
       "      <th>2509</th>\n",
       "      <td>06/24/2015</td>\n",
       "      <td>$17.678</td>\n",
       "      <td>36172362</td>\n",
       "      <td>$17.7987</td>\n",
       "      <td>$17.8233</td>\n",
       "      <td>$17.5813</td>\n",
       "    </tr>\n",
       "    <tr>\n",
       "      <th>2510</th>\n",
       "      <td>06/23/2015</td>\n",
       "      <td>$17.8447</td>\n",
       "      <td>57969001</td>\n",
       "      <td>$17.3547</td>\n",
       "      <td>$17.8667</td>\n",
       "      <td>$17.238</td>\n",
       "    </tr>\n",
       "    <tr>\n",
       "      <th>2511</th>\n",
       "      <td>06/22/2015</td>\n",
       "      <td>$17.3193</td>\n",
       "      <td>68386046</td>\n",
       "      <td>$17.4767</td>\n",
       "      <td>$17.6267</td>\n",
       "      <td>$17.046</td>\n",
       "    </tr>\n",
       "    <tr>\n",
       "      <th>2512</th>\n",
       "      <td>06/19/2015</td>\n",
       "      <td>$17.5007</td>\n",
       "      <td>36883482</td>\n",
       "      <td>$17.4933</td>\n",
       "      <td>$17.5867</td>\n",
       "      <td>$17.34</td>\n",
       "    </tr>\n",
       "    <tr>\n",
       "      <th>2513</th>\n",
       "      <td>06/18/2015</td>\n",
       "      <td>$17.4593</td>\n",
       "      <td>41721594</td>\n",
       "      <td>$17.4667</td>\n",
       "      <td>$17.564</td>\n",
       "      <td>$17.3347</td>\n",
       "    </tr>\n",
       "    <tr>\n",
       "      <th>2514</th>\n",
       "      <td>06/17/2015</td>\n",
       "      <td>$17.3607</td>\n",
       "      <td>82508359</td>\n",
       "      <td>$16.8113</td>\n",
       "      <td>$17.624</td>\n",
       "      <td>$16.8013</td>\n",
       "    </tr>\n",
       "  </tbody>\n",
       "</table>\n",
       "</div>"
      ],
      "text/plain": [
       "            Date Close/Last    Volume      Open      High       Low\n",
       "2505  06/30/2015    $17.884  46266502  $17.6533  $18.0613    $17.60\n",
       "2506  06/29/2015    $17.468  52071754  $17.4633    $17.73    $17.38\n",
       "2507  06/26/2015    $17.806  57444871   $17.926  $17.9407  $17.7333\n",
       "2508  06/25/2015   $17.9193  42674874  $17.7633   $18.094  $17.6833\n",
       "2509  06/24/2015    $17.678  36172362  $17.7987  $17.8233  $17.5813\n",
       "2510  06/23/2015   $17.8447  57969001  $17.3547  $17.8667   $17.238\n",
       "2511  06/22/2015   $17.3193  68386046  $17.4767  $17.6267   $17.046\n",
       "2512  06/19/2015   $17.5007  36883482  $17.4933  $17.5867    $17.34\n",
       "2513  06/18/2015   $17.4593  41721594  $17.4667   $17.564  $17.3347\n",
       "2514  06/17/2015   $17.3607  82508359  $16.8113   $17.624  $16.8013"
      ]
     },
     "execution_count": 21,
     "metadata": {},
     "output_type": "execute_result"
    }
   ],
   "source": [
    "Data.tail(10)"
   ]
  },
  {
   "cell_type": "code",
   "execution_count": 22,
   "id": "fe01774d",
   "metadata": {},
   "outputs": [
    {
     "data": {
      "text/plain": [
       "np.int64(851)"
      ]
     },
     "execution_count": 22,
     "metadata": {},
     "output_type": "execute_result"
    }
   ],
   "source": [
    "len(Delta)-np.sum(Delta>=1)-np.sum(Delta<=-1)"
   ]
  },
  {
   "cell_type": "code",
   "execution_count": 23,
   "id": "329b4f6e",
   "metadata": {},
   "outputs": [],
   "source": [
    "nu=1.0\n",
    "def SNB(x):\n",
    "    if x>1:\n",
    "        out=0\n",
    "    if np.abs(x)<1:\n",
    "        out=1\n",
    "    if x <=-1:\n",
    "        out=2\n",
    "    return out\n",
    "\n",
    "SNB = np.vectorize(SNB)\n",
    "State=SNB(Delta)"
   ]
  },
  {
   "cell_type": "code",
   "execution_count": 24,
   "id": "10fca2f2",
   "metadata": {},
   "outputs": [],
   "source": [
    "matC=np.zeros([3,3])"
   ]
  },
  {
   "cell_type": "code",
   "execution_count": 25,
   "id": "31a522fd",
   "metadata": {},
   "outputs": [],
   "source": [
    "for i in range(len(State)-1):\n",
    "    s1=State[i]\n",
    "    s2=State[i+1]\n",
    "    matC[s1][s2]+=1"
   ]
  },
  {
   "cell_type": "code",
   "execution_count": 26,
   "id": "41a1adbc",
   "metadata": {},
   "outputs": [
    {
     "data": {
      "text/plain": [
       "array([[247., 299., 283.],\n",
       "       [285., 298., 268.],\n",
       "       [298., 253., 283.]])"
      ]
     },
     "execution_count": 26,
     "metadata": {},
     "output_type": "execute_result"
    }
   ],
   "source": [
    "matC"
   ]
  },
  {
   "cell_type": "code",
   "execution_count": 27,
   "id": "49789157",
   "metadata": {},
   "outputs": [],
   "source": [
    "#Normalizando para volverlas probabilidades\n",
    "matP=np.zeros([3,3])\n",
    "for i in range(3):\n",
    "    matP[i]=matC[i]/sum(matC[i])"
   ]
  },
  {
   "cell_type": "code",
   "execution_count": 28,
   "id": "7b894b3e",
   "metadata": {},
   "outputs": [
    {
     "data": {
      "text/plain": [
       "array([[0.29794934, 0.36067551, 0.34137515],\n",
       "       [0.33490012, 0.35017626, 0.31492362],\n",
       "       [0.35731415, 0.30335731, 0.33932854]])"
      ]
     },
     "execution_count": 28,
     "metadata": {},
     "output_type": "execute_result"
    }
   ],
   "source": [
    "matP"
   ]
  }
 ],
 "metadata": {
  "kernelspec": {
   "display_name": "Python 3",
   "language": "python",
   "name": "python3"
  },
  "language_info": {
   "codemirror_mode": {
    "name": "ipython",
    "version": 3
   },
   "file_extension": ".py",
   "mimetype": "text/x-python",
   "name": "python",
   "nbconvert_exporter": "python",
   "pygments_lexer": "ipython3",
   "version": "3.11.10"
  }
 },
 "nbformat": 4,
 "nbformat_minor": 5
}
