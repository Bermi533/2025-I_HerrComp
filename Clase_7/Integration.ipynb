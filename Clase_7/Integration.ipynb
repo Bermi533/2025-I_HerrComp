{
 "cells": [
  {
   "cell_type": "code",
   "execution_count": 5,
   "id": "e80b786f",
   "metadata": {},
   "outputs": [],
   "source": [
    "import numpy as np #Integrando una gaussiana\n",
    "def f(x):\n",
    "  return (1/(np.sqrt(2*np.pi)))*np.exp(-x**2/2)\n",
    "def simpson_rule(a, b, n):\n",
    "  h=(b-a)/n\n",
    "  out=f(a)\n",
    "  for i in range(1, n, 2):\n",
    "    xi=a+i*h\n",
    "    out+=4*f(xi)\n",
    "  for i in range(2, n, 2):\n",
    "   xi=a+i*h\n",
    "   out+=2*f(xi)\n",
    "  out+=f(b)\n",
    "  return h*out/3"
   ]
  },
  {
   "cell_type": "code",
   "execution_count": 6,
   "id": "1d473229",
   "metadata": {},
   "outputs": [
    {
     "data": {
      "text/plain": [
       "np.float64(0.34134474606854576)"
      ]
     },
     "execution_count": 6,
     "metadata": {},
     "output_type": "execute_result"
    }
   ],
   "source": [
    "simpson_rule(0, 1, 1000)"
   ]
  },
  {
   "cell_type": "code",
   "execution_count": 7,
   "id": "160f8a37",
   "metadata": {},
   "outputs": [],
   "source": [
    "#Ahora para una integral elíptica\n",
    "def f2(x,c):\n",
    "    return (1/(np.sqrt(1-c**2*np.sin(x)**2)))\n",
    "def k(n,c):\n",
    "  a=0\n",
    "  b=np.pi/2\n",
    "  h=(b-a)/n\n",
    "  out=f2(a,c)\n",
    "  for i in range(1, n, 2):\n",
    "    xi=a+i*h\n",
    "    out+=4*f2(xi,c)\n",
    "  for i in range(2, n, 2):\n",
    "   xi=a+i*h\n",
    "   out+=2*f2(xi,c)\n",
    "  out+=f2(b,c)\n",
    "  return h*out/3"
   ]
  },
  {
   "cell_type": "code",
   "execution_count": 8,
   "id": "5ca201bc",
   "metadata": {},
   "outputs": [
    {
     "data": {
      "text/plain": [
       "np.float64(1.574745561517357)"
      ]
     },
     "execution_count": 8,
     "metadata": {},
     "output_type": "execute_result"
    }
   ],
   "source": [
    "k(1000, 0.1)"
   ]
  },
  {
   "cell_type": "code",
   "execution_count": 9,
   "id": "131beb2e",
   "metadata": {},
   "outputs": [
    {
     "data": {
      "text/plain": [
       "[<matplotlib.lines.Line2D at 0x7f6df85a1fd0>]"
      ]
     },
     "execution_count": 9,
     "metadata": {},
     "output_type": "execute_result"
    },
    {
     "data": {
      "image/png": "[encoded data removed]",
      "text/plain": [
       "<Figure size 640x480 with 1 Axes>"
      ]
     },
     "metadata": {},
     "output_type": "display_data"
    }
   ],
   "source": [
    "import numpy as np\n",
    "import matplotlib.pyplot as plt\n",
    "X=[]\n",
    "Y=[]\n",
    "x=0\n",
    "while x<=1:\n",
    "  X.append(x)\n",
    "  Y.append(k(1000,x))\n",
    "  x+=0.01\n",
    "plt.plot(X, Y)"
   ]
  },
  {
   "cell_type": "code",
   "execution_count": 10,
   "id": "22877880",
   "metadata": {},
   "outputs": [
    {
     "data": {
      "text/plain": [
       "np.float64(0.8862269254527579)"
      ]
     },
     "execution_count": 10,
     "metadata": {},
     "output_type": "execute_result"
    }
   ],
   "source": [
    "#Ahora veamos como se hace con SciPY\n",
    "import scipy\n",
    "scipy.special.gamma(1.5) #Por ejemplo, SciPY trabaja con funciones gamma"
   ]
  },
  {
   "cell_type": "code",
   "execution_count": 11,
   "id": "8b8687c8",
   "metadata": {},
   "outputs": [
    {
     "data": {
      "text/plain": [
       "(0.341344746068543, 3.789687964201238e-15)"
      ]
     },
     "execution_count": 11,
     "metadata": {},
     "output_type": "execute_result"
    }
   ],
   "source": [
    "# los argumentos se pasan de la siguiente manera quad(función, a, b)\n",
    "scipy.integrate.quad(f, 0, 1)\n",
    "#Imprime (valor de la integral, incertidumbre/error)"
   ]
  },
  {
   "cell_type": "code",
   "execution_count": 12,
   "id": "2cb86d88",
   "metadata": {},
   "outputs": [
    {
     "data": {
      "text/plain": [
       "(1.574745561517356, 1.7483187803228396e-14)"
      ]
     },
     "execution_count": 12,
     "metadata": {},
     "output_type": "execute_result"
    }
   ],
   "source": [
    "scipy.integrate.quad(f2, 0, np.pi/2, args=(0.1)) #Acá toma el parámetro c como un argumento, no como la variable de integración"
   ]
  },
  {
   "cell_type": "code",
   "execution_count": 13,
   "id": "f9627819",
   "metadata": {},
   "outputs": [],
   "source": [
    "def k_scipy(x):\n",
    "  return scipy.integrate.quad(f2, 0, np.pi/2, args=(x))[0] #El índice [0] para extraer solo el valor de la integral"
   ]
  },
  {
   "cell_type": "code",
   "execution_count": 14,
   "id": "ea06deac",
   "metadata": {},
   "outputs": [
    {
     "data": {
      "text/plain": [
       "1.574745561517356"
      ]
     },
     "execution_count": 14,
     "metadata": {},
     "output_type": "execute_result"
    }
   ],
   "source": [
    "k_scipy(0.1)"
   ]
  },
  {
   "cell_type": "code",
   "execution_count": null,
   "id": "e90e34c1",
   "metadata": {},
   "outputs": [],
   "source": []
  }
 ],
 "metadata": {
  "kernelspec": {
   "display_name": "Python 3",
   "language": "python",
   "name": "python3"
  },
  "language_info": {
   "codemirror_mode": {
    "name": "ipython",
    "version": 3
   },
   "file_extension": ".py",
   "mimetype": "text/x-python",
   "name": "python",
   "nbconvert_exporter": "python",
   "pygments_lexer": "ipython3",
   "version": "3.11.10"
  }
 },
 "nbformat": 4,
 "nbformat_minor": 5
}
