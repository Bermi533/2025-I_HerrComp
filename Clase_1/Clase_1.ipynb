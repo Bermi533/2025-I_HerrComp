{
 "cells": [
  {
   "cell_type": "code",
   "execution_count": 2,
   "id": "bf045886-24c6-460e-a7cd-b420c6919e5a",
   "metadata": {},
   "outputs": [],
   "source": [
    "import numpy as np"
   ]
  },
  {
   "cell_type": "code",
   "execution_count": 3,
   "id": "dab83dd7-48ad-4e8e-a0c0-e713161345b8",
   "metadata": {},
   "outputs": [],
   "source": [
    "N = 1000000\n",
    "n = 0\n",
    "\n",
    "for i in range(N):\n",
    "  x = np.random.rand()\n",
    "  y = np.random.rand()\n",
    "  r = x**2 + y**2\n",
    "\n",
    "  if r <= 1:\n",
    "    n += 1\n",
    "\n",
    "pi_mio = 4*(n/N)"
   ]
  },
  {
   "cell_type": "code",
   "execution_count": 4,
   "id": "e9959314-2021-478b-a916-64147b112a7b",
   "metadata": {},
   "outputs": [
    {
     "name": "stdout",
     "output_type": "stream",
     "text": [
      "3.14288\n"
     ]
    },
    {
     "data": {
      "text/plain": [
       "3.141592653589793"
      ]
     },
     "execution_count": 4,
     "metadata": {},
     "output_type": "execute_result"
    }
   ],
   "source": [
    "print(pi_mio)\n",
    "np.pi"
   ]
  },
  {
   "cell_type": "code",
   "execution_count": 5,
   "id": "bcd867e8-0c84-486f-9ae8-5f9c3d8afdae",
   "metadata": {},
   "outputs": [],
   "source": [
    "def Pi(N):\n",
    "  n = 0\n",
    "  for i in range (N):\n",
    "    x = np.random.rand()\n",
    "    y = np.random.rand()\n",
    "    r = x**2 + y**2\n",
    "    if r <= 1:\n",
    "      n += 1\n",
    "  return 4*(n/N)"
   ]
  },
  {
   "cell_type": "code",
   "execution_count": 6,
   "id": "cf1ffdbb-e6f7-4576-a3ae-fe1766e51db2",
   "metadata": {},
   "outputs": [
    {
     "data": {
      "text/plain": [
       "(4.0, 3.2, 2.72, 3.112, 3.1368, 3.13464, 3.141288)"
      ]
     },
     "execution_count": 6,
     "metadata": {},
     "output_type": "execute_result"
    }
   ],
   "source": [
    "Pi(1), Pi(10), Pi (100), Pi (1000), Pi (10000), Pi (100000), Pi (1000000)"
   ]
  },
  {
   "cell_type": "code",
   "execution_count": 7,
   "id": "eb7fc1ea-4dbb-4284-80bf-648b34b8ea91",
   "metadata": {},
   "outputs": [],
   "source": [
    "N = 10000\n",
    "Data = []\n",
    "for a in range(1000):\n",
    "  val = Pi(N)"
   ]
  },
  {
   "cell_type": "code",
   "execution_count": null,
   "id": "75a20e28-e785-4cc5-9ab6-f0d695b1de7f",
   "metadata": {},
   "outputs": [],
   "source": []
  }
 ],
 "metadata": {
  "kernelspec": {
   "display_name": "Python 3 (ipykernel)",
   "language": "python",
   "name": "python3"
  },
  "language_info": {
   "codemirror_mode": {
    "name": "ipython",
    "version": 3
   },
   "file_extension": ".py",
   "mimetype": "text/x-python",
   "name": "python",
   "nbconvert_exporter": "python",
   "pygments_lexer": "ipython3",
   "version": "3.11.10"
  }
 },
 "nbformat": 4,
 "nbformat_minor": 5
}
