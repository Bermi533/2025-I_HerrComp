{
 "cells": [
  {
   "cell_type": "code",
   "execution_count": 1,
   "id": "c6e330e2-5b49-48de-97d1-8704bd88d117",
   "metadata": {},
   "outputs": [],
   "source": [
    "import numpy as np\n",
    "#Calcular las raíces de la función f(x) = x**2 - 2"
   ]
  },
  {
   "cell_type": "markdown",
   "id": "0a803681",
   "metadata": {},
   "source": [
    "Usar método de la bisección para hallar el valor de raíz de 2.$\\\\$ \n",
    "Para hallar las raíces, debo igualar la función a cero. Entonces:$\\\\$\n",
    "$x^{2} - 2 = 0 \\to  x = \\pm 2\\\\ $\n",
    "$c =\\frac{a+b}{2}\\\\\n",
    "f(a)f(c) < 0\\to b = c  $"
   ]
  },
  {
   "cell_type": "code",
   "execution_count": 42,
   "id": "fea026c4-6f50-4a78-a7cc-b81fb40fdd89",
   "metadata": {},
   "outputs": [],
   "source": [
    "def f(x):\n",
    "    return x**2 - 2\n",
    "\n",
    "a = 1\n",
    "b = 2\n",
    "c = (a+b)/2\n",
    "tol = 1 /10000\n",
    "\n",
    "while (b-a) > tol:\n",
    "    c = (a+b)/2\n",
    "    if abs(f(c)) < tol:\n",
    "        break\n",
    "    elif f(a)*f(c) < 0:\n",
    "        b = c\n",
    "    elif f(b)*f(c) < 0:\n",
    "        a = c"
   ]
  },
  {
   "cell_type": "code",
   "execution_count": 50,
   "id": "4515b04a",
   "metadata": {},
   "outputs": [
    {
     "name": "stdout",
     "output_type": "stream",
     "text": [
      "1.4141845703125\n",
      "1.4142135623730951\n"
     ]
    }
   ],
   "source": [
    "print(c)\n",
    "print(np.sqrt(2))\n",
    "dpr = (abs(c-np.sqrt(2))/(np.sqrt(2)))*100"
   ]
  },
  {
   "cell_type": "code",
   "execution_count": 52,
   "id": "a425b761",
   "metadata": {},
   "outputs": [
    {
     "name": "stdout",
     "output_type": "stream",
     "text": [
      "La raíz aproximada de 2 es 1.414185. Su dpr con el valor real es del 0.002050 %\n"
     ]
    }
   ],
   "source": [
    "print(f\"La raíz aproximada de 2 es {c:.6f}. Su dpr con el valor real es del {dpr:.6f} %\")"
   ]
  }
 ],
 "metadata": {
  "kernelspec": {
   "display_name": "Python 3 (ipykernel)",
   "language": "python",
   "name": "python3"
  },
  "language_info": {
   "codemirror_mode": {
    "name": "ipython",
    "version": 3
   },
   "file_extension": ".py",
   "mimetype": "text/x-python",
   "name": "python",
   "nbconvert_exporter": "python",
   "pygments_lexer": "ipython3",
   "version": "3.11.10"
  }
 },
 "nbformat": 4,
 "nbformat_minor": 5
}
