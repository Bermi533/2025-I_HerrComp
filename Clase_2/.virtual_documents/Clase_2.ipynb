import numpy as np


def Pi(N):
  n = 0
  for i in range (N):
    x = np.random.rand()
    y = np.random.rand()
    r = x**2 + y**2
    if r <= 1:
      n += 1
  return 4*(n/N)


N = 10000
Data = []
for a in range(1000):
  val = Pi(N)
  Data.append(val)


#Data


np.mean(Data), np.std(Data)


pi_mio = sum(Data)/len(Data)
pi_py = np.pi
print(pi_mio)
print(pi_py)


dpr = (np.abs(pi_mio-pi_py)/pi_py)*100
print(dpr)


import matplotlib.pyplot as plt


plt.plot(Data, 'b.', alpha = 0.3)
plt.show()




