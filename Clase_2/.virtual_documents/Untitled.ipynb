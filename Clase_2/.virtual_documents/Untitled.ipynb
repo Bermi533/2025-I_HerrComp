import numpy as np


a = 1
b = 2
c = (a+b)/2
def f(x):
    return x**2 - 2

for i in range(10):
    if f(a)*f(c) < 0:
        b = c
    else:
        
        
