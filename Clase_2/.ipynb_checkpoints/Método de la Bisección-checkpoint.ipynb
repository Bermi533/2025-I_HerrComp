{
 "cells": [
  {
   "cell_type": "code",
   "execution_count": 2,
   "id": "c6e330e2-5b49-48de-97d1-8704bd88d117",
   "metadata": {},
   "outputs": [],
   "source": [
    "import numpy as np"
   ]
  },
  {
   "cell_type": "code",
   "execution_count": null,
   "id": "fea026c4-6f50-4a78-a7cc-b81fb40fdd89",
   "metadata": {},
   "outputs": [],
   "source": [
    "a = 1\n",
    "b = 2\n",
    "c = (a+b)/2\n",
    "def f(x):\n",
    "    return x**2 - 2\n",
    "\n",
    "for i in range(10):\n",
    "    if f(a)*f(c) < 0:\n",
    "        b = c\n",
    "    else:\n",
    "        \n",
    "        "
   ]
  }
 ],
 "metadata": {
  "kernelspec": {
   "display_name": "Python 3 (ipykernel)",
   "language": "python",
   "name": "python3"
  },
  "language_info": {
   "codemirror_mode": {
    "name": "ipython",
    "version": 3
   },
   "file_extension": ".py",
   "mimetype": "text/x-python",
   "name": "python",
   "nbconvert_exporter": "python",
   "pygments_lexer": "ipython3",
   "version": "3.11.10"
  }
 },
 "nbformat": 4,
 "nbformat_minor": 5
}
